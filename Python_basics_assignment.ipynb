{
  "nbformat": 4,
  "nbformat_minor": 0,
  "metadata": {
    "colab": {
      "provenance": []
    },
    "kernelspec": {
      "name": "python3",
      "display_name": "Python 3"
    },
    "language_info": {
      "name": "python"
    }
  },
  "cells": [
    {
      "cell_type": "markdown",
      "source": [
        "Question 1:What is Python, and why is it popular?\n",
        "\n",
        "Answer: Python is a versatile, accessible, high-level programming language that has achieved significant appeal due to its simplicity and readability. It was developed by Guido van Rossum and was launched in 1991. Python is extensively utilised across multiple fields, including web development, data analysis, scientific computing, artificial intelligence, and automation.\n",
        "\n",
        "It is popular for the following reasons:\n",
        "1. Beginner-friendly and easy to learn\n",
        "2. Clear and readable syntax.\n",
        "3. Well-documented standard library.\n",
        "4. Open-source with a large developer community.\n",
        "5. Scalable for large-scale projects.\n",
        "6. High productivity due to concise and expressive code.\n",
        "7. Cross-platform compatibility. As mentioned before it's versatile and widely used across various domains.\n",
        "\n",
        "\n",
        "\n",
        "\n",
        "\n"
      ],
      "metadata": {
        "id": "_EgSEA17RwgM"
      }
    },
    {
      "cell_type": "markdown",
      "source": [
        "Q2: What is an interpreter in Python?\n",
        "\n",
        "Answer: Computer only understands the language of 0s and 1s (i.e. Machine code/low level language). To communicate with the machine/computer we use source code which are high level languages (Python, java etc.) These HLL are easier to understand for humans. This HLL (Source code) are converted into LLL (Machine code) using a compiler. The compiler converts our source code into Byte code and this Byte code is converted into machine code by a Python interpreter."
      ],
      "metadata": {
        "id": "PItkpJrv91Z6"
      }
    },
    {
      "cell_type": "markdown",
      "source": [
        "Q3:  What are pre-defined keywords in Python?\n",
        "\n",
        "Answer: Keywords in Python are reserved words that have special meanings and predefined functionalities within the Python language. These keywords cannot be used as variable names or identifiers because they are already used to define the syntax and structure of the language.\n",
        "\n",
        "For example, keywords like if, else, for, and while are used in control flow statements, while def is used to define functions. Other keywords, such as import, from, and as, are used for importing modules and managing namespaces.\n",
        "Keywords are also case-sensitive and therefore the keyword True holds a different meaning and true holds a different meaning."
      ],
      "metadata": {
        "id": "JVX0RfVT_k_a"
      }
    },
    {
      "cell_type": "markdown",
      "source": [
        "Q4: Can keywords be used as variable names?\n",
        "\n",
        "These keywords cannot be used as variable names or identifiers because they are already used to define the syntax and structure of the language.\n",
        "For example, keywords like if, else, for, and while are used in control flow statements, while def is used to define functions. Other keywords, such as import, from, and as, are used for importing modules and managing namespaces."
      ],
      "metadata": {
        "id": "2NH34qwTAb_7"
      }
    },
    {
      "cell_type": "markdown",
      "source": [
        "Q5: What is mutability in Python?\n",
        "\n",
        "Answer: In Python, mutability refers to the capability of an object to be changed or modified after its creation. Strings and tuples are immutable that means it's values can't be changed once created. Whereas, lists are mutable and therefore we can add and remove elements from a list."
      ],
      "metadata": {
        "id": "vnpHRs02ArYv"
      }
    },
    {
      "cell_type": "markdown",
      "source": [
        "Q6: Why are lists mutable, but tuples are immutable?\n",
        "\n",
        "Answer: Lists are mutable due to their intended purpose of managing collections of items that may necessitate frequent modification.\n",
        "Tuples are immutable due to their intended use for defined collections of items that must stay constant, thereby guaranteeing consistency and efficiency.\n",
        "\n",
        "As a result, tuples may occasionally be more memory-efficient and speedier than lists for read-only purposes.\n"
      ],
      "metadata": {
        "id": "xzcBoZzGB9O4"
      }
    },
    {
      "cell_type": "markdown",
      "source": [
        "Q7: What is the difference between “==” and “is” operators in Python?\n",
        "\n",
        "Answer: The \"==\" comparison operator is used to check if the values are the same. Whereas, the is operator is an identity operator which checks if the objects' memory location is the same. \"is\" returns True if two operands refer to the same object."
      ],
      "metadata": {
        "id": "zH2wM17BDdOU"
      }
    },
    {
      "cell_type": "markdown",
      "source": [
        "Q8: What are logical operators in Python?\n",
        "\n",
        "Answer: Logical operators are \"and\", \"or\" or \"not\" operators and they return the value as True or False when used.\n",
        "\n",
        "and: Returns True if both operands are True.\n",
        "\n",
        "or: Returns True if at least one of the operands is True.\n",
        "\n",
        "not: Returns the opposite boolean value of the operand.\n",
        "\n"
      ],
      "metadata": {
        "id": "jiaxqW-3EbO8"
      }
    },
    {
      "cell_type": "markdown",
      "source": [
        "Q9: What is type casting in Python?\n",
        "\n",
        "Answer: Typecasting, also known as type conversion, is the process of changing the data type of a variable from one type to another. In Python, you can perform typecasting using built-in functions or constructor functions for the desired data type.\n",
        "\n",
        "For example, while taking input from user we can typecast the string in integer in some cases where its appropriate.\n",
        "\n",
        "Like,\n",
        "Age= int(input(\"Type your age:\"))\n",
        "Now the age entered will be stored as integer rather than string."
      ],
      "metadata": {
        "id": "pIf0aNg1Fk2a"
      }
    },
    {
      "cell_type": "markdown",
      "source": [
        "Q10: What is the difference between implicit and explicit type casting?\n",
        "\n",
        "Answer: In implicit type casting, the programming language automatically converts data from one type to another if needed. For example, if you have an float variable and you try to assign it to a int variable, the programming language will automatically convert the integer to a float without you having to do anything.\n",
        "\n",
        "Whereas, explicit typecasting occurs when the programmer explicitly converts a value from one data type to another. Unlike implicit type casting, explicit type casting requires the programmer to specify the desired data type conversion."
      ],
      "metadata": {
        "id": "ShVBikobGYt5"
      }
    },
    {
      "cell_type": "markdown",
      "source": [
        "Q11: What is the purpose of conditional statements in Python?\n",
        "\n",
        "Answer: Conditionals, also known as conditional statements or conditional expressions, are structures in programming languages that allow the execution of different code blocks based on specified conditions. They provide the ability to make decisions and control the flow of a program.\n",
        "\n",
        "They are of three types if, elif and else.\n",
        "The if statement allows you to execute a block of code if a condition is true.\n",
        "The elif statement is short for \"else if\" and is used to check additional conditions if the condition for if statement is False. It is optional and can appear multiple times within an if statement.\n",
        "The else statement is used to define a block of code that should be executed if none of the preceding conditions are true.\n",
        "\n",
        "Conditionals evaluate a condition or expression that results in a Boolean value True or False. Based on the evaluation of the condition, the program decides which code blocks to execute.\n",
        "\n",
        "\n",
        "\n",
        "\n",
        "\n"
      ],
      "metadata": {
        "id": "QsgiK0rOHc6f"
      }
    },
    {
      "cell_type": "markdown",
      "source": [
        "Q12: How does the elif statement work?\n",
        "\n",
        "Answer: The elif statement is short for \"else if\" and is used to check additional conditions if the condition for if statement is False. It is optional and can appear multiple times within an if statement.\n",
        "The elif statement in Python is short for \"else if\" and is used to introduce an additional condition to be checked if the preceding if or elif conditions are false. It allows for multiple conditional branches in your code.\n"
      ],
      "metadata": {
        "id": "JHqOX6jsJXZb"
      }
    },
    {
      "cell_type": "markdown",
      "source": [
        "Q13: What is the difference between for and while loops?\n",
        "\n",
        "Answer: A for loop is used to iterate over a sequence such as a list, tuple, or range or any iterable object.\n",
        "It executes a block of code for each item in the sequence.\n",
        "The loop variable takes on the value of each item in the sequence one by one.The loop continues until all items in the sequence have been processed.\n",
        "\n",
        "A while loop is used to repeatedly execute a block of code as long as a specific condition is true.\n",
        "It evaluates the condition before each iteration and continues until the condition becomes false.\n",
        "It is useful when the number of iterations is not known beforehand or depends on runtime conditions.\n",
        "\n",
        "\n"
      ],
      "metadata": {
        "id": "jOdGFdhGJzBK"
      }
    },
    {
      "cell_type": "markdown",
      "source": [
        "Q14: Describe a scenario where a while loop is more suitable than a for loop.\n",
        "\n",
        "Answer: Counting until the number reaches 10\n",
        "number = 0\n",
        "\n",
        "while number < 10:\n",
        "    \n",
        "    print(f\"The current number is: {number}\")\n",
        "    number += 1\n",
        "\n",
        "The while loop continues till the condition results in True. We don't need to know the number of iterations in advance. To use a For loop we would have had to know the range in advance.\n",
        "\n"
      ],
      "metadata": {
        "id": "cuAu0YHMKr87"
      }
    },
    {
      "cell_type": "code",
      "source": [
        "#Q1: Write a Python program to print \"Hello, World!\"\n",
        "print(\"hello world!\")"
      ],
      "metadata": {
        "colab": {
          "base_uri": "https://localhost:8080/"
        },
        "id": "kOBeflH-R-tx",
        "outputId": "805b585c-6e66-44a8-ee1c-2a45fa25f51b"
      },
      "execution_count": null,
      "outputs": [
        {
          "output_type": "stream",
          "name": "stdout",
          "text": [
            "hello world!\n"
          ]
        }
      ]
    },
    {
      "cell_type": "code",
      "source": [
        "#Q2: Write a Python program that displays your name and age.\n",
        "name= input(\"Enter your name: \")\n",
        "age= int(input(\"Enter your age:\"))\n",
        "print(\"Your name is\",name + \" and your age is\",age)"
      ],
      "metadata": {
        "colab": {
          "base_uri": "https://localhost:8080/"
        },
        "id": "RfVjGXAvSWhG",
        "outputId": "d1ce2b0e-e2be-4652-947d-08845f1e6755"
      },
      "execution_count": null,
      "outputs": [
        {
          "output_type": "stream",
          "name": "stdout",
          "text": [
            "Enter your name: Isha\n",
            "Enter your age:24\n",
            "Your name is Isha and your age is 24\n"
          ]
        }
      ]
    },
    {
      "cell_type": "code",
      "source": [
        "#Q3: Write code to print all the pre-defined keywords in Python using the keyword library.\n",
        "help(\"keywords\")\n"
      ],
      "metadata": {
        "colab": {
          "base_uri": "https://localhost:8080/"
        },
        "id": "tp0LPGFvTRna",
        "outputId": "1f0c93cf-3d04-4f96-cfc1-b50bca27b321"
      },
      "execution_count": null,
      "outputs": [
        {
          "output_type": "stream",
          "name": "stdout",
          "text": [
            "\n",
            "Here is a list of the Python keywords.  Enter any keyword to get more help.\n",
            "\n",
            "False               class               from                or\n",
            "None                continue            global              pass\n",
            "True                def                 if                  raise\n",
            "and                 del                 import              return\n",
            "as                  elif                in                  try\n",
            "assert              else                is                  while\n",
            "async               except              lambda              with\n",
            "await               finally             nonlocal            yield\n",
            "break               for                 not                 \n",
            "\n"
          ]
        }
      ]
    },
    {
      "cell_type": "code",
      "source": [
        "#Q4: Write a program that checks if a given word is a Python keyword.\n",
        "import keyword\n",
        "keyword.iskeyword(\"if\")\n"
      ],
      "metadata": {
        "colab": {
          "base_uri": "https://localhost:8080/"
        },
        "id": "KrsLO8IzT-eQ",
        "outputId": "494c2042-8164-490f-8d6b-47fdb0affcb2"
      },
      "execution_count": null,
      "outputs": [
        {
          "output_type": "execute_result",
          "data": {
            "text/plain": [
              "True"
            ]
          },
          "metadata": {},
          "execution_count": 7
        }
      ]
    },
    {
      "cell_type": "code",
      "source": [
        "#Q5: Create a list and tuple in Python, and demonstrate how attempting to change an element works differently for each.\n",
        "#This method will throw an error as tuples don't support item assignment.\n",
        "tuple1=(1,2,3,4,5)\n",
        "tuple1[0]=6\n"
      ],
      "metadata": {
        "id": "bTolH7_jUM-G",
        "colab": {
          "base_uri": "https://localhost:8080/",
          "height": 173
        },
        "outputId": "8fd829ab-19bf-41a0-e102-db2b11da3251"
      },
      "execution_count": null,
      "outputs": [
        {
          "output_type": "error",
          "ename": "TypeError",
          "evalue": "'tuple' object does not support item assignment",
          "traceback": [
            "\u001b[0;31m---------------------------------------------------------------------------\u001b[0m",
            "\u001b[0;31mTypeError\u001b[0m                                 Traceback (most recent call last)",
            "\u001b[0;32m<ipython-input-12-cfe6024c34d9>\u001b[0m in \u001b[0;36m<cell line: 3>\u001b[0;34m()\u001b[0m\n\u001b[1;32m      1\u001b[0m \u001b[0;31m#Q5: Create a list and tuple in Python, and demonstrate how attempting to change an element works differently for each.\u001b[0m\u001b[0;34m\u001b[0m\u001b[0;34m\u001b[0m\u001b[0m\n\u001b[1;32m      2\u001b[0m \u001b[0mtuple1\u001b[0m\u001b[0;34m=\u001b[0m\u001b[0;34m(\u001b[0m\u001b[0;36m1\u001b[0m\u001b[0;34m,\u001b[0m\u001b[0;36m2\u001b[0m\u001b[0;34m,\u001b[0m\u001b[0;36m3\u001b[0m\u001b[0;34m,\u001b[0m\u001b[0;36m4\u001b[0m\u001b[0;34m,\u001b[0m\u001b[0;36m5\u001b[0m\u001b[0;34m)\u001b[0m\u001b[0;34m\u001b[0m\u001b[0;34m\u001b[0m\u001b[0m\n\u001b[0;32m----> 3\u001b[0;31m \u001b[0mtuple1\u001b[0m\u001b[0;34m[\u001b[0m\u001b[0;36m0\u001b[0m\u001b[0;34m]\u001b[0m\u001b[0;34m=\u001b[0m\u001b[0;36m6\u001b[0m\u001b[0;34m\u001b[0m\u001b[0;34m\u001b[0m\u001b[0m\n\u001b[0m",
            "\u001b[0;31mTypeError\u001b[0m: 'tuple' object does not support item assignment"
          ]
        }
      ]
    },
    {
      "cell_type": "code",
      "source": [
        "#Q5: Create a list and tuple in Python, and demonstrate how attempting to change an element works differently for each.\n",
        "#In this within a tuple there is a list and that can be modified as follows.\n",
        "tup = ([3, 4, 5], 'myname')\n",
        "tup[0] [1] = 6\n",
        "print(tup)"
      ],
      "metadata": {
        "colab": {
          "base_uri": "https://localhost:8080/"
        },
        "id": "HLBFFC4P1WLu",
        "outputId": "a1db6163-a009-4416-d77a-2fbd1d1f452b"
      },
      "execution_count": null,
      "outputs": [
        {
          "output_type": "stream",
          "name": "stdout",
          "text": [
            "([3, 6, 5], 'myname')\n"
          ]
        }
      ]
    },
    {
      "cell_type": "code",
      "source": [
        "#Q5: Create a list and tuple in Python, and demonstrate how attempting to change an element works differently for each.\n",
        "#List:\n",
        "my_list = [3, 9, 0]\n",
        "my_list.append(0)\n",
        "print(my_list)\n",
        "\n",
        "my_list.insert(1, 5)\n",
        "print(my_list)\n",
        "\n",
        "my_list.remove(5)\n",
        "print(my_list)"
      ],
      "metadata": {
        "colab": {
          "base_uri": "https://localhost:8080/"
        },
        "id": "h33qcMnf2Kh2",
        "outputId": "c2e7cea3-5965-484a-b008-fce185d3b4e0"
      },
      "execution_count": null,
      "outputs": [
        {
          "output_type": "stream",
          "name": "stdout",
          "text": [
            "[3, 9, 0, 0]\n",
            "[3, 5, 9, 0, 0]\n",
            "[3, 9, 0, 0]\n"
          ]
        }
      ]
    },
    {
      "cell_type": "code",
      "source": [
        "#Q6: Write a function to demonstrate the behavior of mutable and immutable arguments.\n",
        "#Mutable example:\n",
        "my_dict = {\"name\": \"Ram\", \"age\": 25}\n",
        "new_dict = my_dict\n",
        "new_dict[\"age\"] = 37\n",
        "\n",
        "print(my_dict)\n",
        "print(new_dict)\n",
        "#Immutable example:\n",
        "my_string = \"Hi I am a student\"\n",
        "new_string = my_string\n",
        "new_string += \" studying data analytics\"\n",
        "\n",
        "print(my_string)\n",
        "print(new_string)"
      ],
      "metadata": {
        "id": "U75CExMT0uB8"
      },
      "execution_count": null,
      "outputs": []
    },
    {
      "cell_type": "code",
      "source": [
        "#Q7: Write a function to demonstrate the behavior of mutable and immutable arguments.\n",
        "#Mutable example:\n",
        "my_dict = {\"name\": \"Ram\", \"age\": 25}\n",
        "new_dict = my_dict\n",
        "new_dict[\"age\"] = 37\n",
        "\n",
        "print(my_dict)\n",
        "print(new_dict)\n",
        "#Immutable example:\n",
        "my_string = \"Hi I am a student\"\n",
        "new_string = my_string\n",
        "new_string += \" studying data analytics\"\n",
        "\n",
        "print(my_string)\n",
        "print(new_string)\n",
        "\n"
      ],
      "metadata": {
        "colab": {
          "base_uri": "https://localhost:8080/"
        },
        "id": "iQQbh9J-z3AI",
        "outputId": "4d1eae25-e7d5-41c6-a6e0-e79943488b38"
      },
      "execution_count": null,
      "outputs": [
        {
          "output_type": "stream",
          "name": "stdout",
          "text": [
            "{'name': 'Ram', 'age': 37}\n",
            "{'name': 'Ram', 'age': 37}\n",
            "Hi I am a student\n",
            "Hi I am a student studying data analytics\n"
          ]
        }
      ]
    },
    {
      "cell_type": "code",
      "source": [
        "#Q8: Write a program to demonstrate the use of logical operators.\n",
        "Age= int(input(\"Type your age:\"))\n",
        "Occupation= input(\"Type your occupation:\")\n",
        "if Age>=15 and Age<30 and Occupation==\"Student\":\n",
        "    print(\"You are eligible\")\n",
        "elif Age>=30 or Occupation==\"Teacher\":\n",
        "    print(\"You are eligible\")\n",
        "else:\n",
        "    print(\"You are not eligible\", not Occupation==\"Teacher\")"
      ],
      "metadata": {
        "colab": {
          "base_uri": "https://localhost:8080/"
        },
        "id": "MBU0BR7rxdz5",
        "outputId": "7b36f785-1fef-40fb-97f2-1ba524a4b415"
      },
      "execution_count": null,
      "outputs": [
        {
          "output_type": "stream",
          "name": "stdout",
          "text": [
            "Type your age:10\n",
            "Type your occupation:student\n",
            "You are not eligible True\n"
          ]
        }
      ]
    },
    {
      "cell_type": "code",
      "source": [
        "#Q9: Write a Python program to convert user input from string to integer, float, and boolean types.\n",
        "Age= int(input(\"Type your age:\"))\n",
        "Weight= float(input(\"Type your weight:\"))\n",
        "Student= bool(input(\"Are you a student:\"))\n",
        "print(Age,Weight,Student)\n",
        "\n"
      ],
      "metadata": {
        "colab": {
          "base_uri": "https://localhost:8080/"
        },
        "id": "DPFxO4jxwzJP",
        "outputId": "c309d7c1-ce67-46dd-eefe-a4de80daa52f"
      },
      "execution_count": null,
      "outputs": [
        {
          "output_type": "stream",
          "name": "stdout",
          "text": [
            "Type your age:24\n",
            "Type your weight:63.5\n",
            "Are you a student:yes\n",
            "24 63.5 True\n"
          ]
        }
      ]
    },
    {
      "cell_type": "code",
      "source": [
        "#Q10: Write code to demonstrate type casting with list elements.\n",
        "string_numbers = [\"1\", \"2\", \"3\", \"4.5\", \"5.6\"]\n",
        "converted_numbers = []\n",
        "\n",
        "for item in string_numbers:\n",
        "    if \".\" in item:\n",
        "        converted_numbers.append(float(item))\n",
        "    else:\n",
        "        converted_numbers.append(int(item))\n",
        "\n",
        "print(\"Original list (strings):\", string_numbers)\n",
        "print(\"Converted list (numbers):\", converted_numbers)\n",
        "\n",
        "\n",
        "print(\"Types of elements in the converted list:\")\n",
        "for num in converted_numbers:\n",
        "    print(f\"{num}: {type(num)}\")\n"
      ],
      "metadata": {
        "colab": {
          "base_uri": "https://localhost:8080/"
        },
        "id": "oRZBGjCZvBa_",
        "outputId": "fb1acaef-1ece-47b7-a33f-60cbc947baac"
      },
      "execution_count": null,
      "outputs": [
        {
          "output_type": "stream",
          "name": "stdout",
          "text": [
            "Original list (strings): ['1', '2', '3', '4.5', '5.6']\n",
            "Converted list (numbers): [1, 2, 3, 4.5, 5.6]\n",
            "Types of elements in the converted list:\n",
            "1: <class 'int'>\n",
            "2: <class 'int'>\n",
            "3: <class 'int'>\n",
            "4.5: <class 'float'>\n",
            "5.6: <class 'float'>\n"
          ]
        }
      ]
    },
    {
      "cell_type": "code",
      "source": [
        "#Q11: Write a program that checks if a number is positive, negative, or zero.\n",
        "num=int(input(\"Enter a number: \"))\n",
        "if num>0:\n",
        "    print(\"The number is positive\")\n",
        "elif num<0:\n",
        "    print(\"The number is negative\")\n",
        "else:\n",
        "    print(\"The number is zero\")"
      ],
      "metadata": {
        "colab": {
          "base_uri": "https://localhost:8080/"
        },
        "id": "tYp6MidTuxto",
        "outputId": "fc4dfd8a-c37f-4d86-8d14-5ef232b4aaed"
      },
      "execution_count": null,
      "outputs": [
        {
          "output_type": "stream",
          "name": "stdout",
          "text": [
            "Enter a number: 15\n",
            "The number is positive\n"
          ]
        }
      ]
    },
    {
      "cell_type": "code",
      "source": [
        "#Q12: Write a for loop to print numbers from 1 to 100.\n",
        "for loop in range(1,101):\n",
        "    print(loop)"
      ],
      "metadata": {
        "colab": {
          "base_uri": "https://localhost:8080/"
        },
        "id": "EfydW3U9V1WF",
        "outputId": "dc92dafd-0d3c-409a-c2cc-af7401b0b999"
      },
      "execution_count": null,
      "outputs": [
        {
          "output_type": "stream",
          "name": "stdout",
          "text": [
            "1\n",
            "2\n",
            "3\n",
            "4\n",
            "5\n",
            "6\n",
            "7\n",
            "8\n",
            "9\n",
            "10\n",
            "11\n",
            "12\n",
            "13\n",
            "14\n",
            "15\n",
            "16\n",
            "17\n",
            "18\n",
            "19\n",
            "20\n",
            "21\n",
            "22\n",
            "23\n",
            "24\n",
            "25\n",
            "26\n",
            "27\n",
            "28\n",
            "29\n",
            "30\n",
            "31\n",
            "32\n",
            "33\n",
            "34\n",
            "35\n",
            "36\n",
            "37\n",
            "38\n",
            "39\n",
            "40\n",
            "41\n",
            "42\n",
            "43\n",
            "44\n",
            "45\n",
            "46\n",
            "47\n",
            "48\n",
            "49\n",
            "50\n",
            "51\n",
            "52\n",
            "53\n",
            "54\n",
            "55\n",
            "56\n",
            "57\n",
            "58\n",
            "59\n",
            "60\n",
            "61\n",
            "62\n",
            "63\n",
            "64\n",
            "65\n",
            "66\n",
            "67\n",
            "68\n",
            "69\n",
            "70\n",
            "71\n",
            "72\n",
            "73\n",
            "74\n",
            "75\n",
            "76\n",
            "77\n",
            "78\n",
            "79\n",
            "80\n",
            "81\n",
            "82\n",
            "83\n",
            "84\n",
            "85\n",
            "86\n",
            "87\n",
            "88\n",
            "89\n",
            "90\n",
            "91\n",
            "92\n",
            "93\n",
            "94\n",
            "95\n",
            "96\n",
            "97\n",
            "98\n",
            "99\n",
            "100\n"
          ]
        }
      ]
    },
    {
      "cell_type": "code",
      "source": [
        "#Q13: Write a Python program to find the sum of all even numbers between 1 and 50.\n",
        "sum=0\n",
        "for i in range(1,51):\n",
        "    if i%2==0:\n",
        "        sum=sum+i\n",
        "print(sum)"
      ],
      "metadata": {
        "colab": {
          "base_uri": "https://localhost:8080/"
        },
        "id": "itIwXHulWLqQ",
        "outputId": "ba53fe5f-5c39-40b7-8557-baa21e1cac36"
      },
      "execution_count": null,
      "outputs": [
        {
          "output_type": "stream",
          "name": "stdout",
          "text": [
            "650\n"
          ]
        }
      ]
    },
    {
      "cell_type": "code",
      "source": [
        "#Q14: Write a program to reverse a string using a while loop.\n",
        "string=input(\"Enter a string: \")\n",
        "reverse=\"\"\n",
        "length=len(string)\n",
        "while length>0:\n",
        "    reverse=reverse+string[length-1]\n",
        "    length=length-1\n",
        "print(reverse)\n"
      ],
      "metadata": {
        "id": "34M8kkd6uH-k",
        "colab": {
          "base_uri": "https://localhost:8080/"
        },
        "outputId": "371b0ba3-e2de-4825-e05a-b5670b1e4b7d"
      },
      "execution_count": null,
      "outputs": [
        {
          "output_type": "stream",
          "name": "stdout",
          "text": [
            "Enter a string: This is data analytics\n",
            "scitylana atad si sihT\n"
          ]
        }
      ]
    },
    {
      "cell_type": "code",
      "source": [
        "#Q15:\n",
        "num=int(input(\"Enter a number: \"))\n",
        "fact=1\n",
        "while num>0:\n",
        "    fact=fact*num\n",
        "    num=num-1\n",
        "print(fact)"
      ],
      "metadata": {
        "colab": {
          "base_uri": "https://localhost:8080/"
        },
        "id": "h75_qp7Ykw3Q",
        "outputId": "61185198-0cfc-4150-c42c-9909f5a61891"
      },
      "execution_count": null,
      "outputs": [
        {
          "output_type": "stream",
          "name": "stdout",
          "text": [
            "Enter a number: 3\n",
            "6\n"
          ]
        }
      ]
    },
    {
      "cell_type": "code",
      "source": [],
      "metadata": {
        "id": "zNGHgvvOt-j3"
      },
      "execution_count": null,
      "outputs": []
    }
  ]
}